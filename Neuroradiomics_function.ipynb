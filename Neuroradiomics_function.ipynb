{
 "cells": [
  {
   "cell_type": "code",
   "execution_count": 2,
   "id": "82ac9225-347c-4e48-ba51-d2088f314b2a",
   "metadata": {},
   "outputs": [],
   "source": [
    "import itk\n",
    "import numpy as np\n",
    "import sys\n",
    "import argparse"
   ]
  },
  {
   "cell_type": "code",
   "execution_count": 4,
   "id": "3791bd9b-2ac4-4647-8e57-897b9fecf3e3",
   "metadata": {},
   "outputs": [
    {
     "ename": "SyntaxError",
     "evalue": "invalid syntax (3213801515.py, line 1)",
     "output_type": "error",
     "traceback": [
      "\u001b[0;36m  File \u001b[0;32m\"/tmp/ipykernel_19036/3213801515.py\"\u001b[0;36m, line \u001b[0;32m1\u001b[0m\n\u001b[0;31m    def registration_reader (fixed_image_filename, moving_image_filename)\u001b[0m\n\u001b[0m                                                                         ^\u001b[0m\n\u001b[0;31mSyntaxError\u001b[0m\u001b[0;31m:\u001b[0m invalid syntax\n"
     ]
    }
   ],
   "source": [
    "def registration_reader (fixed_image_filename, moving_image_filename)\n",
    "    \"\"\"This function load 2 images from thei path and return 2 ITK objects.\n",
    "        \n",
    "        Args:\n",
    "            fixed_image_filename\n",
    "            moving_image_filename\n",
    "            \n",
    "        Returns:\n",
    "            fixed_image\n",
    "            moving_image\n",
    "    \"\"\"\n",
    "    \n",
    "    fixed_image = itk.imread(fixed_image_filename)\n",
    "    moving_image = itk.imread(moving_image_filename)\n",
    "    \n",
    "    return fixed_image, moving_image;\n",
    "\n",
    "    "
   ]
  },
  {
   "cell_type": "code",
   "execution_count": null,
   "id": "eda85a87-4e08-42df-8493-ee2d3c447607",
   "metadata": {},
   "outputs": [],
   "source": []
  }
 ],
 "metadata": {
  "kernelspec": {
   "display_name": "Python 3 (ipykernel)",
   "language": "python",
   "name": "python3"
  },
  "language_info": {
   "codemirror_mode": {
    "name": "ipython",
    "version": 3
   },
   "file_extension": ".py",
   "mimetype": "text/x-python",
   "name": "python",
   "nbconvert_exporter": "python",
   "pygments_lexer": "ipython3",
   "version": "3.8.12"
  }
 },
 "nbformat": 4,
 "nbformat_minor": 5
}
