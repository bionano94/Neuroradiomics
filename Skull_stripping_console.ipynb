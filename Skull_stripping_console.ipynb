{
 "cells": [
  {
   "cell_type": "code",
   "execution_count": 1,
   "id": "5e805b1f-ba20-45b3-b2ab-217a7b2837ff",
   "metadata": {},
   "outputs": [],
   "source": [
    "from Neuroradiomics.registration import registration_reader\n",
    "from Neuroradiomics.registration import elastix_multimap_registration\n",
    "from Neuroradiomics.registration import registration_writer\n",
    "from Neuroradiomics.registration import apply_transform_from_files\n",
    "from Neuroradiomics.registration import read_transform_from_files\n",
    "from Neuroradiomics.registration import elastix_rigid_registration\n",
    "from Neuroradiomics.registration import Set_sampler_parameters_as_image\n",
    "from Neuroradiomics.registration import registration_transform_parameters_writer\n",
    "from Neuroradiomics.registration import transform_parameters_writer\n",
    "from Neuroradiomics.registration import evaluate_registration_mse\n",
    "from Neuroradiomics.skull_stripping import negative_3d_masking\n",
    "from Neuroradiomics.skull_stripping import *\n",
    "from Neuroradiomics.normalization import *\n",
    "\n",
    "\n",
    "import itk\n",
    "import numpy as np\n",
    "import os\n",
    "from itkwidgets import view\n",
    "\n",
    "import tkinter as tk\n",
    "from tkinter import filedialog"
   ]
  },
  {
   "cell_type": "code",
   "execution_count": 2,
   "id": "2625771e-9d6e-4db5-84a6-7b778ef14adf",
   "metadata": {},
   "outputs": [
    {
     "data": {
      "text/plain": [
       "''"
      ]
     },
     "execution_count": 2,
     "metadata": {},
     "output_type": "execute_result"
    }
   ],
   "source": [
    "root = tk.Tk()\n",
    "root.withdraw()"
   ]
  },
  {
   "cell_type": "code",
   "execution_count": 3,
   "id": "100867a7-eda5-4ec7-9b02-ebf0547c0d75",
   "metadata": {},
   "outputs": [],
   "source": [
    "flair_filename = filedialog.askopenfilename(title = \"Select the flair image\")\n",
    "\n",
    "t1_filename = filedialog.askopenfilename(title = \"Select the t1 image\")\n",
    "\n",
    "atlas_filename = filedialog.askopenfilename(title = \"Select the atlas image\")\n",
    "\n",
    "mask_filename = filedialog.askopenfilename(title = \"Select the brain mask image\")\n",
    "\n",
    "flair, t1 = registration_reader(flair_filename, t1_filename)\n",
    "atlas, mask = registration_reader(atlas_filename, mask_filename)\n"
   ]
  },
  {
   "cell_type": "code",
   "execution_count": 4,
   "id": "d05005af-a1f4-4688-9e54-230614d0b9bb",
   "metadata": {},
   "outputs": [
    {
     "name": "stdout",
     "output_type": "stream",
     "text": [
      "The Rigid Registration is done!\n"
     ]
    }
   ],
   "source": [
    "rigid_reg_obj = elastix_rigid_registration(flair, t1)\n",
    "new_params = Set_sampler_parameters_as_image(rigid_reg_obj.GetTransformParameterObject(), t1)\n",
    "\n",
    "reg_t1 = itk.transformix_filter(t1, new_params)  "
   ]
  },
  {
   "cell_type": "code",
   "execution_count": 5,
   "id": "fd24d210-282c-460a-8e08-0fa06e904530",
   "metadata": {},
   "outputs": [
    {
     "name": "stdout",
     "output_type": "stream",
     "text": [
      "The Multimap Registration is done!\n"
     ]
    }
   ],
   "source": [
    "brain_mask = skull_stripping_mask(t1, atlas, mask)"
   ]
  },
  {
   "cell_type": "code",
   "execution_count": 6,
   "id": "7283fdda-d4b3-462b-ad0d-2709a5b007d7",
   "metadata": {},
   "outputs": [],
   "source": [
    "itk.imwrite(brain_mask, 'brain_mask.nii')"
   ]
  },
  {
   "cell_type": "code",
   "execution_count": 7,
   "id": "c94b782d-87ac-4ffd-8250-5f66aba2d531",
   "metadata": {},
   "outputs": [],
   "source": [
    "brain = negative_3d_masking(t1, brain_mask)"
   ]
  },
  {
   "cell_type": "code",
   "execution_count": 8,
   "id": "29f939e7-6c81-4c5f-acb3-cd52327b87f2",
   "metadata": {},
   "outputs": [],
   "source": [
    "itk.imwrite(brain, 'brain.nii')"
   ]
  },
  {
   "cell_type": "code",
   "execution_count": null,
   "id": "a4b8385f-779a-4a35-8d4f-b1416703b941",
   "metadata": {},
   "outputs": [],
   "source": []
  }
 ],
 "metadata": {
  "kernelspec": {
   "display_name": "Python 3 (ipykernel)",
   "language": "python",
   "name": "python3"
  },
  "language_info": {
   "codemirror_mode": {
    "name": "ipython",
    "version": 3
   },
   "file_extension": ".py",
   "mimetype": "text/x-python",
   "name": "python",
   "nbconvert_exporter": "python",
   "pygments_lexer": "ipython3",
   "version": "3.8.12"
  }
 },
 "nbformat": 4,
 "nbformat_minor": 5
}
