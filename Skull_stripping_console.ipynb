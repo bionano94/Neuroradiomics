{
 "cells": [
  {
   "cell_type": "code",
   "execution_count": 1,
   "id": "5e805b1f-ba20-45b3-b2ab-217a7b2837ff",
   "metadata": {},
   "outputs": [],
   "source": [
    "from Neuroradiomics.registration import *\n",
    "from Neuroradiomics.skull_stripping import *\n",
    "from Neuroradiomics.normalization import *\n",
    "from Neuroradiomics.resampler import *\n",
    "\n",
    "\n",
    "import itk\n",
    "import numpy as np\n",
    "import os\n",
    "from itkwidgets import view\n",
    "import sys\n",
    "\n",
    "import tkinter as tk\n",
    "from tkinter import filedialog"
   ]
  },
  {
   "cell_type": "code",
   "execution_count": 2,
   "id": "2625771e-9d6e-4db5-84a6-7b778ef14adf",
   "metadata": {},
   "outputs": [
    {
     "data": {
      "text/plain": [
       "''"
      ]
     },
     "execution_count": 2,
     "metadata": {},
     "output_type": "execute_result"
    }
   ],
   "source": [
    "root = tk.Tk()\n",
    "root.withdraw()"
   ]
  },
  {
   "cell_type": "code",
   "execution_count": 19,
   "id": "100867a7-eda5-4ec7-9b02-ebf0547c0d75",
   "metadata": {},
   "outputs": [],
   "source": [
    "# flair_filename = filedialog.askopenfilename(title = \"Select the flair image\")\n",
    "\n",
    "t1_filename = filedialog.askopenfilename(title = \"Select the t1 image\")\n",
    "\n",
    "fsl_mask_filename = filedialog.askopenfilename(title = \"Select the FSL mask image\")\n",
    "\n",
    "#atlas_filename = filedialog.askopenfilename(title = \"Select the atlas image\")\n",
    "\n",
    "#mask_filename = filedialog.askopenfilename(title = \"Select the brain mask image\")\n",
    "\n",
    "atlas_filename = '/home/nicolas/Desktop/Neuroradiomics/mni_icbm152_nlin_sym_09a/mni_icbm152_t1_tal_nlin_sym_09a.nii'\n",
    "mask_filename = '/home/nicolas/Desktop/Neuroradiomics/mni_icbm152_nlin_sym_09a/mni_icbm152_t1_tal_nlin_sym_09a_mask.nii'\n",
    "\n",
    "t1, fsl_mask = registration_reader(t1_filename, fsl_mask_filename)\n",
    "atlas, mask = registration_reader(atlas_filename, mask_filename)\n"
   ]
  },
  {
   "cell_type": "code",
   "execution_count": null,
   "id": "d05005af-a1f4-4688-9e54-230614d0b9bb",
   "metadata": {},
   "outputs": [],
   "source": [
    "'''\n",
    "\n",
    "rigid_reg_obj = elastix_rigid_registration(flair, t1)\n",
    "new_params = Set_sampler_parameters_as_image(rigid_reg_obj.GetTransformParameterObject(), t1)\n",
    "\n",
    "reg_t1 = itk.transformix_filter(t1, new_params)  "
   ]
  },
  {
   "cell_type": "code",
   "execution_count": 20,
   "id": "fd24d210-282c-460a-8e08-0fa06e904530",
   "metadata": {},
   "outputs": [
    {
     "name": "stdout",
     "output_type": "stream",
     "text": [
      "The Multimap Registration is done!\n",
      "Your brain mask is ready!\n",
      "Dice_Coefficient = 0.9388570393558543\n",
      "Volume_Similarity = -0.12091376316896432\n",
      "Hausdorff_Distance = 14.096921369706768\n",
      "Average_Hausdorff_Distance = 0.13493892805979665\n"
     ]
    },
    {
     "data": {
      "text/plain": [
       "[0.9388570393558543,\n",
       " -0.12091376316896432,\n",
       " 14.096921369706768,\n",
       " 0.13493892805979665]"
      ]
     },
     "execution_count": 20,
     "metadata": {},
     "output_type": "execute_result"
    }
   ],
   "source": [
    "brain_mask = skull_stripping_mask(t1, atlas, mask)\n",
    "evaluate_stripping(brain_mask, fsl_mask)"
   ]
  },
  {
   "cell_type": "code",
   "execution_count": 21,
   "id": "9713d360-bc4c-4b03-a46e-f2173f45f7e9",
   "metadata": {},
   "outputs": [],
   "source": [
    "dir_path = './56_2016'\n",
    "\n",
    "if not os.path.exists(dir_path):\n",
    "        os.mkdir(dir_path)"
   ]
  },
  {
   "cell_type": "code",
   "execution_count": 22,
   "id": "b22a14b9-0a72-434b-8864-6c06ef382462",
   "metadata": {},
   "outputs": [],
   "source": [
    "f = open(dir_path + '/measurements.txt', 'w')\n",
    "original_stdout = sys.stdout  \n",
    "sys.stdout = f # Change the standard output to the file we created.\n",
    "evaluate_stripping(brain_mask, fsl_mask)\n",
    "sys.stdout = original_stdout # Reset the standard output to its original value\n",
    "f.close()"
   ]
  },
  {
   "cell_type": "code",
   "execution_count": null,
   "id": "c4436cc1-e7e3-49c1-a6eb-716894c2bf30",
   "metadata": {},
   "outputs": [],
   "source": [
    "#itk.imwrite(brain_mask, './1_2020/brain_mask.nii')"
   ]
  },
  {
   "cell_type": "code",
   "execution_count": 23,
   "id": "7ba22e09-72a2-4033-b68e-67e387d8740f",
   "metadata": {},
   "outputs": [],
   "source": [
    "brain = negative_3d_masking(t1, brain_mask)"
   ]
  },
  {
   "cell_type": "code",
   "execution_count": 24,
   "id": "4f168551-ec3e-458c-ae06-61d1b5e6ab30",
   "metadata": {},
   "outputs": [],
   "source": [
    "matched_fsl = match_physical_spaces(fsl_mask, brain_mask)\n",
    "matched_fsl.Update()\n",
    "\n",
    "fsl_brain = negative_3d_masking(t1, matched_fsl.GetOutput() )"
   ]
  },
  {
   "cell_type": "code",
   "execution_count": 25,
   "id": "7323d8d5-b2a1-4b90-a9c9-03e4645daa96",
   "metadata": {},
   "outputs": [],
   "source": [
    "itk.imwrite(brain, dir_path + '/brain.nii')"
   ]
  },
  {
   "cell_type": "code",
   "execution_count": 26,
   "id": "a09f667b-d61a-4d45-8da7-9b07dd4dc94d",
   "metadata": {},
   "outputs": [],
   "source": [
    "itk.imwrite(fsl_brain, dir_path + '/fsl_brain.nii')"
   ]
  },
  {
   "cell_type": "code",
   "execution_count": null,
   "id": "7afa7bca-7427-4965-b2e9-9370fb9ec5c6",
   "metadata": {},
   "outputs": [],
   "source": []
  }
 ],
 "metadata": {
  "kernelspec": {
   "display_name": "Python 3 (ipykernel)",
   "language": "python",
   "name": "python3"
  },
  "language_info": {
   "codemirror_mode": {
    "name": "ipython",
    "version": 3
   },
   "file_extension": ".py",
   "mimetype": "text/x-python",
   "name": "python",
   "nbconvert_exporter": "python",
   "pygments_lexer": "ipython3",
   "version": "3.8.12"
  }
 },
 "nbformat": 4,
 "nbformat_minor": 5
}
