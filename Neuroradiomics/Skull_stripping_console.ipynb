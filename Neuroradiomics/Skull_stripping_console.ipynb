{
 "cells": [
  {
   "cell_type": "code",
   "execution_count": 1,
   "id": "d2de59e5-17cb-4b15-8b5a-e05d8f418713",
   "metadata": {},
   "outputs": [],
   "source": [
    "import itk\n",
    "import numpy\n",
    "import tkinter as tk\n",
    "from tkinter import filedialog"
   ]
  },
  {
   "cell_type": "code",
   "execution_count": 2,
   "id": "5e805b1f-ba20-45b3-b2ab-217a7b2837ff",
   "metadata": {},
   "outputs": [],
   "source": [
    "from registration import registration_reader\n",
    "from registration import elastix_multimap_registration\n",
    "from registration import registration_writer\n",
    "from registration import apply_transform_from_files\n",
    "from registration import read_transform_from_files\n",
    "from registration import elastix_rigid_registration\n",
    "from graphical_setter import graphical_setter\n",
    "from skull_stripping import skull_stripper"
   ]
  },
  {
   "cell_type": "code",
   "execution_count": 3,
   "id": "2625771e-9d6e-4db5-84a6-7b778ef14adf",
   "metadata": {},
   "outputs": [
    {
     "data": {
      "text/plain": [
       "''"
      ]
     },
     "execution_count": 3,
     "metadata": {},
     "output_type": "execute_result"
    }
   ],
   "source": [
    "root = tk.Tk()\n",
    "root.withdraw()"
   ]
  },
  {
   "cell_type": "code",
   "execution_count": 4,
   "id": "4d993fad-8cce-4670-a867-0874f007e12a",
   "metadata": {},
   "outputs": [],
   "source": [
    "mask_file = filedialog.askopenfilename(title = \"Select the mask image\")"
   ]
  },
  {
   "cell_type": "code",
   "execution_count": 5,
   "id": "14a61093-c741-4fc6-aeee-88a95dbd4c15",
   "metadata": {},
   "outputs": [],
   "source": [
    "transform_path = filedialog.askdirectory(title = \"Select where are the transform files\")"
   ]
  },
  {
   "cell_type": "code",
   "execution_count": 6,
   "id": "35bbabaf-d5b8-4eaa-ba09-58498fb52679",
   "metadata": {},
   "outputs": [],
   "source": [
    "mask = itk.imread(mask_file, itk.F)"
   ]
  },
  {
   "cell_type": "code",
   "execution_count": 7,
   "id": "8f1e8c57-3398-451c-a045-eadedf428b3d",
   "metadata": {},
   "outputs": [
    {
     "name": "stdout",
     "output_type": "stream",
     "text": [
      "The Transformation is done!\n"
     ]
    }
   ],
   "source": [
    "reg_mask = apply_transform_from_files(mask, transform_path)"
   ]
  },
  {
   "cell_type": "code",
   "execution_count": 8,
   "id": "fa23b7e0-e90a-4110-9229-5351bc72c178",
   "metadata": {},
   "outputs": [],
   "source": [
    "registered_brain_file = filedialog.askopenfilename(title = \"Select the image\")"
   ]
  },
  {
   "cell_type": "code",
   "execution_count": 9,
   "id": "5dd4aac0-863a-422e-b452-125eb417da73",
   "metadata": {},
   "outputs": [],
   "source": [
    "registered_image = itk.imread(registered_brain_file)"
   ]
  },
  {
   "cell_type": "code",
   "execution_count": 10,
   "id": "8bac3b25-82b5-4e1c-827f-b9dea9dcd82d",
   "metadata": {},
   "outputs": [],
   "source": [
    "reg_atlas_file = filedialog.askopenfilename(title = \"Select the reg_atlas\")\n",
    "reg_atlas = itk.imread(reg_atlas_file)"
   ]
  },
  {
   "cell_type": "code",
   "execution_count": 11,
   "id": "ca1b7a7a-4376-4653-9a10-3cd048b80737",
   "metadata": {},
   "outputs": [
    {
     "name": "stderr",
     "output_type": "stream",
     "text": [
      "ExceptionObject caught !\n",
      "\n",
      "itk::InvalidRequestedRegionError (0x55f7d8693150)\n",
      "Location: \"unknown\" \n",
      "File: ../../../ITK-source/ITK/Modules/Filtering/ImageFilterBase/include/itkNeighborhoodOperatorImageFilter.hxx\n",
      "Line: 70\n",
      "Description: Requested region is (at least partially) outside the largest possible region.\n",
      "\n",
      "\n",
      "ExceptionObject caught !\n",
      "\n",
      "itk::InvalidRequestedRegionError (0x55f7dcc8b1d0)\n",
      "Location: \"unknown\" \n",
      "File: ../../../ITK-source/ITK/Modules/Filtering/ImageFilterBase/include/itkNeighborhoodOperatorImageFilter.hxx\n",
      "Line: 70\n",
      "Description: Requested region is (at least partially) outside the largest possible region.\n",
      "\n",
      "\n"
     ]
    },
    {
     "ename": "RuntimeError",
     "evalue": "../../../ITK-source/ITK/Modules/Core/Transform/include/itkMatrixOffsetTransformBase.hxx:547:\nITK ERROR: AffineTransform(0x55f7d7262be0): Error setting parameters: parameters array size (1) is less than expected  (NInputDimensions * NOutputDimensions + NOutputDimensions)  (3 * 3 + 3 = 12)",
     "output_type": "error",
     "traceback": [
      "\u001b[0;31m---------------------------------------------------------------------------\u001b[0m",
      "\u001b[0;31mRuntimeError\u001b[0m                              Traceback (most recent call last)",
      "\u001b[0;32m/tmp/ipykernel_29547/3912309548.py\u001b[0m in \u001b[0;36m<module>\u001b[0;34m\u001b[0m\n\u001b[0;32m----> 1\u001b[0;31m \u001b[0mbrain\u001b[0m \u001b[0;34m=\u001b[0m \u001b[0mskull_stripper\u001b[0m\u001b[0;34m(\u001b[0m\u001b[0mregistered_image\u001b[0m\u001b[0;34m,\u001b[0m \u001b[0mreg_atlas\u001b[0m\u001b[0;34m,\u001b[0m \u001b[0mreg_mask\u001b[0m\u001b[0;34m)\u001b[0m\u001b[0;34m\u001b[0m\u001b[0;34m\u001b[0m\u001b[0m\n\u001b[0m",
      "\u001b[0;32m~/Desktop/Neuroradiomics/Programma/Neuroradiomics/skull_stripping.py\u001b[0m in \u001b[0;36mskull_stripper\u001b[0;34m(image, atlas, mask)\u001b[0m\n\u001b[1;32m     27\u001b[0m     \u001b[0mstrip_filter\u001b[0m\u001b[0;34m.\u001b[0m\u001b[0mSetAtlasImage\u001b[0m\u001b[0;34m(\u001b[0m\u001b[0mcast_atlas\u001b[0m\u001b[0;34m)\u001b[0m\u001b[0;34m\u001b[0m\u001b[0;34m\u001b[0m\u001b[0m\n\u001b[1;32m     28\u001b[0m     \u001b[0mstrip_filter\u001b[0m\u001b[0;34m.\u001b[0m\u001b[0mSetAtlasBrainMask\u001b[0m\u001b[0;34m(\u001b[0m\u001b[0mcast_mask\u001b[0m\u001b[0;34m)\u001b[0m\u001b[0;34m\u001b[0m\u001b[0;34m\u001b[0m\u001b[0m\n\u001b[0;32m---> 29\u001b[0;31m     \u001b[0mstrip_filter\u001b[0m\u001b[0;34m.\u001b[0m\u001b[0mUpdateLargestPossibleRegion\u001b[0m\u001b[0;34m(\u001b[0m\u001b[0;34m)\u001b[0m\u001b[0;34m\u001b[0m\u001b[0;34m\u001b[0m\u001b[0m\n\u001b[0m\u001b[1;32m     30\u001b[0m \u001b[0;34m\u001b[0m\u001b[0m\n\u001b[1;32m     31\u001b[0m     \u001b[0mprint\u001b[0m\u001b[0;34m(\u001b[0m\u001b[0;34m'Strip Filter Updated'\u001b[0m\u001b[0;34m)\u001b[0m\u001b[0;34m\u001b[0m\u001b[0;34m\u001b[0m\u001b[0m\n",
      "\u001b[0;31mRuntimeError\u001b[0m: ../../../ITK-source/ITK/Modules/Core/Transform/include/itkMatrixOffsetTransformBase.hxx:547:\nITK ERROR: AffineTransform(0x55f7d7262be0): Error setting parameters: parameters array size (1) is less than expected  (NInputDimensions * NOutputDimensions + NOutputDimensions)  (3 * 3 + 3 = 12)"
     ]
    }
   ],
   "source": [
    "brain = skull_stripper(registered_image, reg_atlas, reg_mask)"
   ]
  },
  {
   "cell_type": "code",
   "execution_count": null,
   "id": "4a81c8ae-2e66-4dc4-a3bf-0b69d6098d0e",
   "metadata": {},
   "outputs": [],
   "source": [
    "def skull_stripper(image, mask):\n",
    "    \"\"\"\n",
    "    \n",
    "    \"\"\"\n",
    "    \n",
    "    '''\n",
    "    InputType = itk.Image[itk.F, 3]\n",
    "    OutputType = itk.Image[itk.SS, 3]\n",
    "    cast_filter = itk.CastImageFilter[InputType, OutputType].New()\n",
    "    \n",
    "    cast_filter.SetInput(image)\n",
    "    cast_image = cast_filter.GetOutput()\n",
    "    \n",
    "    cast_filter.SetInput(atlas)\n",
    "    cast_atlas = cast_filter.GetOutput()\n",
    "    \n",
    "    \n",
    "    OutputType = itk.Image[itk.UC, 3]\n",
    "    cast_filter = itk.CastImageFilter[InputType, OutputType].New()\n",
    "    \n",
    "    cast_filter.SetInput(mask)\n",
    "    cast_mask = cast_filter.GetOutput()\n",
    "    \n",
    "    strip_filter = itk.StripTsImageFilter.New()\n",
    "    strip_filter.SetInput(cast_image)\n",
    "    strip_filter.SetAtlasImage(cast_atlas)\n",
    "    strip_filter.SetAtlasBrainMask(cast_mask)\n",
    "    strip_filter.UpdateLargestPossibleRegion()\n",
    "    \n",
    "    print('Strip Filter Updated')\n",
    "    \n",
    "    mask_filter = itk.MaskImageFilter.New()    \n",
    "    mask_filter.SetInput1(image)\n",
    "    mask_filter.SetInput2(strip_filter.GetOutput())\n",
    "    mask_filter.Update()\n",
    "    \n",
    "    print('Stripping Ready')\n",
    "    \n",
    "    brain = mask_filter.GetOutput()\n",
    "    \n",
    "    print('Stripping Done')\n",
    "    '''\n",
    "    \n",
    "    mask_filter = itk.MaskNegatedImageFilter.New()\n",
    "    mask_filter.SetMaskImage(mask)\n",
    "    \n",
    "    return brain"
   ]
  }
 ],
 "metadata": {
  "kernelspec": {
   "display_name": "Python 3 (ipykernel)",
   "language": "python",
   "name": "python3"
  },
  "language_info": {
   "codemirror_mode": {
    "name": "ipython",
    "version": 3
   },
   "file_extension": ".py",
   "mimetype": "text/x-python",
   "name": "python",
   "nbconvert_exporter": "python",
   "pygments_lexer": "ipython3",
   "version": "3.8.12"
  }
 },
 "nbformat": 4,
 "nbformat_minor": 5
}
