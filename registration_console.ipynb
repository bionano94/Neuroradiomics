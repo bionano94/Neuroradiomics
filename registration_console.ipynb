{
 "cells": [
  {
   "cell_type": "code",
   "execution_count": 1,
   "id": "f0e82075-b977-4b47-9b62-baf1d49541ec",
   "metadata": {},
   "outputs": [],
   "source": [
    "from Neuroradiomics.registration import registration_reader\n",
    "from Neuroradiomics.registration import elastix_multimap_registration\n",
    "from Neuroradiomics.registration import registration_writer\n",
    "from Neuroradiomics.registration import apply_transform_from_files\n",
    "from Neuroradiomics.registration import read_transform_from_files\n",
    "from Neuroradiomics.registration import elastix_rigid_registration\n",
    "from Neuroradiomics.registration import Set_sampler_parameters_as_image\n",
    "from Neuroradiomics.registration import elastix_transform_parameters_writer\n",
    "from Neuroradiomics.registration import transform_parameters_writer\n",
    "from Neuroradiomics.registration import evaluate_registration_mse\n",
    "\n",
    "\n",
    "\n",
    "import itk\n",
    "import numpy as np\n",
    "import os\n",
    "\n",
    "import tkinter as tk\n",
    "from tkinter import filedialog"
   ]
  },
  {
   "cell_type": "code",
   "execution_count": 2,
   "id": "0ffb024a-7214-496a-874d-d08cf7960469",
   "metadata": {},
   "outputs": [
    {
     "data": {
      "text/plain": [
       "''"
      ]
     },
     "execution_count": 2,
     "metadata": {},
     "output_type": "execute_result"
    }
   ],
   "source": [
    "root = tk.Tk()\n",
    "root.withdraw()\n"
   ]
  },
  {
   "cell_type": "code",
   "execution_count": 4,
   "id": "331f7c59-344e-4665-9377-c6681a13f3a9",
   "metadata": {},
   "outputs": [],
   "source": [
    "fixed_image_filename = filedialog.askopenfilename(title = \"Select the fixed image\")\n",
    "\n",
    "    #Moving Image\n",
    "moving_image_filename = filedialog.askopenfilename(title = \"Select the moving image\")\n",
    "\n",
    "    #Where to save the registered image\n",
    "#output_filepath = filedialog.askdirectory(title = \"Select where do you want to save the new image\")"
   ]
  },
  {
   "cell_type": "code",
   "execution_count": 5,
   "id": "f14f78d5-0fc5-4a85-8fc6-37c12996db11",
   "metadata": {},
   "outputs": [],
   "source": [
    "fix_im, mov_im = registration_reader(fixed_image_filename, moving_image_filename)"
   ]
  },
  {
   "cell_type": "code",
   "execution_count": null,
   "id": "39563b2b-124d-44bf-bb4d-1dfd8eb12abc",
   "metadata": {},
   "outputs": [],
   "source": [
    "reg_obj = elastix_rigid_registration(fix_im, mov_im, True)"
   ]
  },
  {
   "cell_type": "code",
   "execution_count": 6,
   "id": "b6931834-1f1e-4a54-9506-4b293d572662",
   "metadata": {},
   "outputs": [],
   "source": [
    "atlas_filename = filedialog.askopenfilename(title = \"Select the moving image\")"
   ]
  },
  {
   "cell_type": "code",
   "execution_count": 7,
   "id": "77ef2fda-aaa6-4245-994c-aa3444a1e2de",
   "metadata": {},
   "outputs": [],
   "source": [
    "atlas = itk.imread(atlas_filename)"
   ]
  },
  {
   "cell_type": "raw",
   "id": "7d681f1d-f02c-4998-83d9-5246cda6d9b2",
   "metadata": {},
   "source": []
  },
  {
   "cell_type": "code",
   "execution_count": 8,
   "id": "3e4e993c-9a34-4e20-857f-506b30f901ca",
   "metadata": {},
   "outputs": [],
   "source": [
    "params = Set_sampler_parameters_as_image(reg_obj.GetTransformParameterObject(), mov_im)"
   ]
  },
  {
   "cell_type": "code",
   "execution_count": 9,
   "id": "1f12f761-8e3c-44fb-9b26-bc277ae0d2ce",
   "metadata": {},
   "outputs": [],
   "source": [
    "right_t1 = itk.transformix_filter(mov_im, params)"
   ]
  },
  {
   "cell_type": "code",
   "execution_count": null,
   "id": "e055b0c9-eeaf-4c1c-8ade-7f01e4ba2f6c",
   "metadata": {},
   "outputs": [],
   "source": []
  },
  {
   "cell_type": "code",
   "execution_count": null,
   "id": "8b605a97-1941-49b3-bbc5-a907547e1a54",
   "metadata": {},
   "outputs": [],
   "source": []
  },
  {
   "cell_type": "code",
   "execution_count": null,
   "id": "ecc84d14-7b42-44cd-a41c-b7c0ed02375d",
   "metadata": {},
   "outputs": [],
   "source": [
    "reg_atlas = elastix_multimap_registration(right_t1, atlas, True)"
   ]
  },
  {
   "cell_type": "code",
   "execution_count": 12,
   "id": "b053288d-a2d7-4b2f-af4f-8bc13be769cf",
   "metadata": {},
   "outputs": [
    {
     "data": {
      "text/plain": [
       "0.031343687"
      ]
     },
     "execution_count": 12,
     "metadata": {},
     "output_type": "execute_result"
    }
   ],
   "source": [
    "evaluate_registration_mse(right_t1, reg_atlas.GetOutput())"
   ]
  },
  {
   "cell_type": "code",
   "execution_count": 15,
   "id": "30ffca9a-b129-4a5f-9ac7-670f1ba3bf56",
   "metadata": {},
   "outputs": [
    {
     "data": {
      "text/plain": [
       "0.006375213"
      ]
     },
     "execution_count": 15,
     "metadata": {},
     "output_type": "execute_result"
    }
   ],
   "source": [
    "evaluate_registration_mse(fix_im, reg_obj.GetOutput())"
   ]
  },
  {
   "cell_type": "code",
   "execution_count": 17,
   "id": "4cd6488d-d0fe-4de9-82a0-3ef23b20c308",
   "metadata": {},
   "outputs": [],
   "source": []
  },
  {
   "cell_type": "code",
   "execution_count": null,
   "id": "eeba58e9-74dd-43d5-8c5e-613cc01887e7",
   "metadata": {},
   "outputs": [],
   "source": []
  }
 ],
 "metadata": {
  "kernelspec": {
   "display_name": "Python 3 (ipykernel)",
   "language": "python",
   "name": "python3"
  },
  "language_info": {
   "codemirror_mode": {
    "name": "ipython",
    "version": 3
   },
   "file_extension": ".py",
   "mimetype": "text/x-python",
   "name": "python",
   "nbconvert_exporter": "python",
   "pygments_lexer": "ipython3",
   "version": "3.8.12"
  }
 },
 "nbformat": 4,
 "nbformat_minor": 5
}
