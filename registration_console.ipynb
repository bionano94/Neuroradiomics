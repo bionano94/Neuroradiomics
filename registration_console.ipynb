{
 "cells": [
  {
   "cell_type": "code",
   "execution_count": 1,
   "id": "f0e82075-b977-4b47-9b62-baf1d49541ec",
   "metadata": {},
   "outputs": [],
   "source": [
    "from Neuroradiomics.registration import registration_reader\n",
    "from Neuroradiomics.registration import elastix_multimap_registration\n",
    "from Neuroradiomics.registration import registration_writer\n",
    "from Neuroradiomics.registration import apply_transform_from_files\n",
    "from Neuroradiomics.registration import read_transform_from_files\n",
    "from Neuroradiomics.registration import elastix_rigid_registration\n",
    "from Neuroradiomics.registration import Set_sampler_parameters_as_image\n",
    "from Neuroradiomics.registration import registration_transform_parameters_writer\n",
    "from Neuroradiomics.registration import transform_parameters_writer\n",
    "from Neuroradiomics.registration import evaluate_registration_mse\n",
    "#from Neuroradiomics.skull_stripping import masking\n",
    "\n",
    "\n",
    "\n",
    "import itk\n",
    "import numpy as np\n",
    "import os\n",
    "from itkwidgets import view\n",
    "\n",
    "import tkinter as tk\n",
    "from tkinter import filedialog"
   ]
  },
  {
   "cell_type": "code",
   "execution_count": 2,
   "id": "0ffb024a-7214-496a-874d-d08cf7960469",
   "metadata": {},
   "outputs": [
    {
     "data": {
      "text/plain": [
       "''"
      ]
     },
     "execution_count": 2,
     "metadata": {},
     "output_type": "execute_result"
    }
   ],
   "source": [
    "root = tk.Tk()\n",
    "root.withdraw()\n"
   ]
  },
  {
   "cell_type": "code",
   "execution_count": 3,
   "id": "331f7c59-344e-4665-9377-c6681a13f3a9",
   "metadata": {},
   "outputs": [],
   "source": [
    "flair_filename = filedialog.askopenfilename(title = \"Select the flair image\")\n",
    "\n",
    "    #Moving Image\n",
    "t1_filename = filedialog.askopenfilename(title = \"Select the t1 image\")\n",
    "\n",
    "atlas_filename = filedialog.askopenfilename(title = \"Select the atlas image\")\n",
    "\n",
    "mask_filename = filedialog.askopenfilename(title = \"Select the brain mask image\")"
   ]
  },
  {
   "cell_type": "code",
   "execution_count": 4,
   "id": "f14f78d5-0fc5-4a85-8fc6-37c12996db11",
   "metadata": {},
   "outputs": [],
   "source": [
    "flair, t1 = registration_reader(flair_filename, t1_filename)\n",
    "atlas, mask = registration_reader(atlas_filename, mask_filename)\n"
   ]
  },
  {
   "cell_type": "code",
   "execution_count": 11,
   "id": "39563b2b-124d-44bf-bb4d-1dfd8eb12abc",
   "metadata": {},
   "outputs": [
    {
     "name": "stdout",
     "output_type": "stream",
     "text": [
      "The Rigid Registration is done!\n"
     ]
    }
   ],
   "source": [
    "rigid_reg_obj = elastix_rigid_registration(flair, t1)\n",
    "new_params = Set_sampler_parameters_as_image(rigid_reg_obj.GetTransformParameterObject(), t1)"
   ]
  },
  {
   "cell_type": "code",
   "execution_count": 12,
   "id": "b6931834-1f1e-4a54-9506-4b293d572662",
   "metadata": {},
   "outputs": [],
   "source": [
    "reg_t1 = itk.transformix_filter(t1, new_params)                                "
   ]
  },
  {
   "cell_type": "code",
   "execution_count": 13,
   "id": "77ef2fda-aaa6-4245-994c-aa3444a1e2de",
   "metadata": {},
   "outputs": [
    {
     "name": "stdout",
     "output_type": "stream",
     "text": [
      "The Multimap Registration is done!\n"
     ]
    }
   ],
   "source": [
    "reg_atlas_obj = elastix_multimap_registration(reg_t1, atlas)"
   ]
  },
  {
   "cell_type": "code",
   "execution_count": 14,
   "id": "3e4e993c-9a34-4e20-857f-506b30f901ca",
   "metadata": {},
   "outputs": [],
   "source": [
    "reg_mask = itk.transformix_filter(mask, reg_atlas_obj.GetTransformParameterObject())"
   ]
  },
  {
   "cell_type": "code",
   "execution_count": 26,
   "id": "91ed42c0-1ac1-450e-88dd-913147787201",
   "metadata": {},
   "outputs": [],
   "source": [
    "def masking (image, mask, Dimension = 3):\n",
    "    \n",
    "    masked_image = itk.Image[itk.F, Dimension].New()\n",
    "    \n",
    "    masked_image.SetRegions(image.GetLargestPossibleRegion())\n",
    "    masked_image.Allocate()\n",
    "    \n",
    "    index = itk.Index[Dimension]()\n",
    "    \n",
    "    for index[0] in range( mask.GetLargestPossibleRegion().GetSize()[0] ):\n",
    "    \n",
    "        for index[1] in range( mask.GetLargestPossibleRegion().GetSize()[1] ):\n",
    "        \n",
    "            for index[2] in range( mask.GetLargestPossibleRegion().GetSize()[2] ):\n",
    "            \n",
    "                if mask.GetPixel(index) < 0.9:\n",
    "                    masked_image.SetPixel(index, 0)\n",
    "                else: \n",
    "                    masked_image.SetPixel(index, image.GetPixel(index))\n",
    "                \n",
    "    \n",
    "    return masked_image"
   ]
  },
  {
   "cell_type": "code",
   "execution_count": 27,
   "id": "ab135670-f8d9-4ba5-906e-2e278a8e37d2",
   "metadata": {},
   "outputs": [],
   "source": [
    "masked_t1 = masking(reg_t1, reg_mask)"
   ]
  },
  {
   "cell_type": "code",
   "execution_count": 17,
   "id": "d810690d-d09d-49e2-86b6-cd35c07a2e5a",
   "metadata": {},
   "outputs": [
    {
     "data": {
      "application/vnd.jupyter.widget-view+json": {
       "model_id": "ac15774611f2466789714d97b5f0516a",
       "version_major": 2,
       "version_minor": 0
      },
      "text/plain": [
       "Viewer(geometries=[], gradient_opacity=0.22, point_sets=[], rendered_image=<itk.itkImagePython.itkImageF3; pro…"
      ]
     },
     "metadata": {},
     "output_type": "display_data"
    }
   ],
   "source": [
    "view(masked_t1)"
   ]
  },
  {
   "cell_type": "code",
   "execution_count": 28,
   "id": "f5f5ef95-38ad-483f-ab79-4c24438cba3c",
   "metadata": {},
   "outputs": [],
   "source": [
    "! cd /home/nicolas/Desktop/Neuroradiomics/Prova\n",
    "itk.imwrite(masked_t1, '/home/nicolas/Desktop/Neuroradiomics/Prova/masked_t1_diocancan.nii')"
   ]
  },
  {
   "cell_type": "code",
   "execution_count": 20,
   "id": "b053288d-a2d7-4b2f-af4f-8bc13be769cf",
   "metadata": {},
   "outputs": [],
   "source": [
    "!cd /"
   ]
  },
  {
   "cell_type": "code",
   "execution_count": 21,
   "id": "30ffca9a-b129-4a5f-9ac7-670f1ba3bf56",
   "metadata": {},
   "outputs": [
    {
     "name": "stdout",
     "output_type": "stream",
     "text": [
      "__init__.py.py\tregistration_console.ipynb  run_stripper.py\n",
      "LICENSE\t\trequirements.txt\t    run_transformation.py\n",
      "Neuroradiomics\trun_registration.py\t    Tests\n"
     ]
    }
   ],
   "source": []
  },
  {
   "cell_type": "code",
   "execution_count": null,
   "id": "4cd6488d-d0fe-4de9-82a0-3ef23b20c308",
   "metadata": {},
   "outputs": [],
   "source": [
    "#view(t1)"
   ]
  },
  {
   "cell_type": "code",
   "execution_count": null,
   "id": "eeba58e9-74dd-43d5-8c5e-613cc01887e7",
   "metadata": {},
   "outputs": [],
   "source": []
  },
  {
   "cell_type": "code",
   "execution_count": null,
   "id": "03213c38-3cc9-474c-b6c0-b3d6311d4787",
   "metadata": {},
   "outputs": [],
   "source": [
    "\n"
   ]
  },
  {
   "cell_type": "code",
   "execution_count": null,
   "id": "bd568148-9189-47a2-82ea-1a6c37dcccfc",
   "metadata": {},
   "outputs": [],
   "source": []
  },
  {
   "cell_type": "code",
   "execution_count": null,
   "id": "ad6094fe-d382-44de-8b1c-394e786da0f2",
   "metadata": {},
   "outputs": [],
   "source": []
  },
  {
   "cell_type": "code",
   "execution_count": null,
   "id": "455f66d2-783f-43bf-a9fa-c8bd99719b49",
   "metadata": {},
   "outputs": [],
   "source": []
  },
  {
   "cell_type": "code",
   "execution_count": null,
   "id": "deac307b-99ac-4cfb-8814-1b1f1058eb9c",
   "metadata": {},
   "outputs": [],
   "source": []
  },
  {
   "cell_type": "code",
   "execution_count": null,
   "id": "fc0c8974-8336-48ca-af39-9eb64bf9a08d",
   "metadata": {},
   "outputs": [],
   "source": []
  },
  {
   "cell_type": "code",
   "execution_count": null,
   "id": "1fe04797-4256-4c8d-b174-3bf5c7db10e9",
   "metadata": {},
   "outputs": [],
   "source": []
  },
  {
   "cell_type": "code",
   "execution_count": null,
   "id": "68748996-0c3e-4363-bb68-b6313a27c34d",
   "metadata": {},
   "outputs": [],
   "source": []
  },
  {
   "cell_type": "code",
   "execution_count": null,
   "id": "fb63a85c-a6de-4c4d-8623-61a9c1429ada",
   "metadata": {},
   "outputs": [],
   "source": []
  },
  {
   "cell_type": "code",
   "execution_count": null,
   "id": "aae01390-a044-44af-a64a-def487494821",
   "metadata": {},
   "outputs": [],
   "source": []
  }
 ],
 "metadata": {
  "kernelspec": {
   "display_name": "Python 3 (ipykernel)",
   "language": "python",
   "name": "python3"
  },
  "language_info": {
   "codemirror_mode": {
    "name": "ipython",
    "version": 3
   },
   "file_extension": ".py",
   "mimetype": "text/x-python",
   "name": "python",
   "nbconvert_exporter": "python",
   "pygments_lexer": "ipython3",
   "version": "3.8.12"
  }
 },
 "nbformat": 4,
 "nbformat_minor": 5
}
