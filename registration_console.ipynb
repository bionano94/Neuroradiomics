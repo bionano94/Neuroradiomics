{
 "cells": [
  {
   "cell_type": "code",
   "execution_count": 1,
   "id": "f0e82075-b977-4b47-9b62-baf1d49541ec",
   "metadata": {},
   "outputs": [],
   "source": [
    "from Neuroradiomics.registration import registration_reader\n",
    "from Neuroradiomics.registration import elastix_multimap_registration\n",
    "from Neuroradiomics.registration import registration_writer\n",
    "from Neuroradiomics.registration import apply_transform_from_files\n",
    "from Neuroradiomics.registration import read_transform_from_files\n",
    "from Neuroradiomics.registration import elastix_rigid_registration\n",
    "from Neuroradiomics.registration import Set_sampler_parameters_as_image\n",
    "from Neuroradiomics.registration import registration_transform_parameters_writer\n",
    "from Neuroradiomics.registration import transform_parameters_writer\n",
    "from Neuroradiomics.registration import evaluate_registration_mse\n",
    "from Neuroradiomics.skull_stripping import negative_3d_masking\n",
    "\n",
    "\n",
    "\n",
    "import itk\n",
    "import numpy as np\n",
    "import os\n",
    "from itkwidgets import view\n",
    "\n",
    "import tkinter as tk\n",
    "from tkinter import filedialog"
   ]
  },
  {
   "cell_type": "code",
   "execution_count": 2,
   "id": "0ffb024a-7214-496a-874d-d08cf7960469",
   "metadata": {},
   "outputs": [
    {
     "data": {
      "text/plain": [
       "''"
      ]
     },
     "execution_count": 2,
     "metadata": {},
     "output_type": "execute_result"
    }
   ],
   "source": [
    "root = tk.Tk()\n",
    "root.withdraw()\n"
   ]
  },
  {
   "cell_type": "code",
   "execution_count": 4,
   "id": "a70cd272-5363-4ca5-9a2a-ed3368120a29",
   "metadata": {},
   "outputs": [],
   "source": [
    "flair_filename = filedialog.askopenfilename(title = \"Select the flair image\")\n",
    "\n",
    "    #Moving Image\n",
    "t1_filename = filedialog.askopenfilename(title = \"Select the t1 image\")\n",
    "\n",
    "atlas_filename = filedialog.askopenfilename(title = \"Select the atlas image\")\n",
    "\n",
    "mask_filename = filedialog.askopenfilename(title = \"Select the brain mask image\")\n",
    "\n",
    "flair, t1 = registration_reader(flair_filename, t1_filename)\n",
    "atlas, mask = registration_reader(atlas_filename, mask_filename)\n"
   ]
  },
  {
   "cell_type": "code",
   "execution_count": 6,
   "id": "6ef38481-f3fd-44f0-b2f4-16bd0a0cd2f3",
   "metadata": {},
   "outputs": [],
   "source": [
    "rigid_reg_obj = elastix_rigid_registration(flair, t1)\n",
    "new_params = Set_sampler_parameters_as_image(rigid_reg_obj.GetTransformParameterObject(), t1)\n",
    "\n",
    "reg_t1 = itk.transformix_filter(t1, new_params)                                "
   ]
  },
  {
   "cell_type": "code",
   "execution_count": 7,
   "id": "77ef2fda-aaa6-4245-994c-aa3444a1e2de",
   "metadata": {},
   "outputs": [
    {
     "name": "stdout",
     "output_type": "stream",
     "text": [
      "The Multimap Registration is done!\n"
     ]
    }
   ],
   "source": [
    "reg_atlas_obj = elastix_multimap_registration(reg_t1, atlas)"
   ]
  },
  {
   "cell_type": "code",
   "execution_count": 19,
   "id": "3e4e993c-9a34-4e20-857f-506b30f901ca",
   "metadata": {},
   "outputs": [],
   "source": [
    "reg_mask = itk.transformix_filter(mask, reg_atlas_obj.GetTransformParameterObject())"
   ]
  },
  {
   "cell_type": "code",
   "execution_count": 20,
   "id": "ab135670-f8d9-4ba5-906e-2e278a8e37d2",
   "metadata": {},
   "outputs": [],
   "source": [
    "masked_t1 = negative_3d_masking(reg_t1, reg_mask)"
   ]
  },
  {
   "cell_type": "code",
   "execution_count": 27,
   "id": "d810690d-d09d-49e2-86b6-cd35c07a2e5a",
   "metadata": {},
   "outputs": [],
   "source": [
    "masked_reg_atlas = negative_3d_masking(reg_atlas_obj.GetOutput(), reg_mask)"
   ]
  },
  {
   "cell_type": "code",
   "execution_count": 28,
   "id": "f5f5ef95-38ad-483f-ab79-4c24438cba3c",
   "metadata": {},
   "outputs": [
    {
     "name": "stdout",
     "output_type": "stream",
     "text": [
      "The Multimap Registration is done!\n"
     ]
    }
   ],
   "source": [
    "reg_masked_t1 = elastix_multimap_registration(masked_t1, masked_reg_atlas)"
   ]
  },
  {
   "cell_type": "code",
   "execution_count": 29,
   "id": "f679c2c9-2de8-49ee-9481-1e898040f66d",
   "metadata": {},
   "outputs": [],
   "source": [
    "output_filepath = filedialog.askdirectory(title = \"Select where do you want to save the new image\")\n",
    "registration_writer(reg_masked_t1, output_filepath)"
   ]
  },
  {
   "cell_type": "code",
   "execution_count": 30,
   "id": "7cbdb6e3-b8ef-41e4-8610-0091ecdecdcf",
   "metadata": {},
   "outputs": [],
   "source": [
    "itk.imwrite(masked_reg_atlas, output_filepath+'/unregistered_masked_atlas.nii')"
   ]
  },
  {
   "cell_type": "code",
   "execution_count": 29,
   "id": "c6761bee-4e40-4b15-bf0b-712c609bfc8f",
   "metadata": {},
   "outputs": [
    {
     "name": "stdout",
     "output_type": "stream",
     "text": [
      "All your files are written\n"
     ]
    },
    {
     "ename": "AttributeError",
     "evalue": "module 'itk' has no attribute 'imrite'",
     "output_type": "error",
     "traceback": [
      "\u001b[0;31m---------------------------------------------------------------------------\u001b[0m",
      "\u001b[0;31mAttributeError\u001b[0m                            Traceback (most recent call last)",
      "\u001b[0;32m/tmp/ipykernel_13952/950409263.py\u001b[0m in \u001b[0;36m<module>\u001b[0;34m\u001b[0m\n\u001b[1;32m      1\u001b[0m \u001b[0moutput_filepath\u001b[0m \u001b[0;34m=\u001b[0m \u001b[0mfiledialog\u001b[0m\u001b[0;34m.\u001b[0m\u001b[0maskdirectory\u001b[0m\u001b[0;34m(\u001b[0m\u001b[0mtitle\u001b[0m \u001b[0;34m=\u001b[0m \u001b[0;34m\"Select where do you want to save the new image\"\u001b[0m\u001b[0;34m)\u001b[0m\u001b[0;34m\u001b[0m\u001b[0;34m\u001b[0m\u001b[0m\n\u001b[1;32m      2\u001b[0m \u001b[0mregistration_writer\u001b[0m\u001b[0;34m(\u001b[0m\u001b[0mreg_masked_t1\u001b[0m\u001b[0;34m,\u001b[0m \u001b[0moutput_filepath\u001b[0m\u001b[0;34m)\u001b[0m\u001b[0;34m\u001b[0m\u001b[0;34m\u001b[0m\u001b[0m\n\u001b[0;32m----> 3\u001b[0;31m \u001b[0mitk\u001b[0m\u001b[0;34m.\u001b[0m\u001b[0mimrite\u001b[0m\u001b[0;34m(\u001b[0m\u001b[0mmasked_reg_atlas\u001b[0m\u001b[0;34m,\u001b[0m \u001b[0moutput_filepath\u001b[0m\u001b[0;34m+\u001b[0m\u001b[0;34m'/.unregistered_masked_atlas.nii'\u001b[0m\u001b[0;34m)\u001b[0m\u001b[0;34m\u001b[0m\u001b[0;34m\u001b[0m\u001b[0m\n\u001b[0m",
      "\u001b[0;32m~/anaconda3/envs/ITK/lib/python3.8/site-packages/itk/support/lazy.py\u001b[0m in \u001b[0;36m__getattribute__\u001b[0;34m(self, attr)\u001b[0m\n\u001b[1;32m    123\u001b[0m \u001b[0;34m\u001b[0m\u001b[0m\n\u001b[1;32m    124\u001b[0m     \u001b[0;32mdef\u001b[0m \u001b[0m__getattribute__\u001b[0m\u001b[0;34m(\u001b[0m\u001b[0mself\u001b[0m\u001b[0;34m,\u001b[0m \u001b[0mattr\u001b[0m\u001b[0;34m)\u001b[0m\u001b[0;34m:\u001b[0m\u001b[0;34m\u001b[0m\u001b[0;34m\u001b[0m\u001b[0m\n\u001b[0;32m--> 125\u001b[0;31m         \u001b[0mvalue\u001b[0m \u001b[0;34m=\u001b[0m \u001b[0mtypes\u001b[0m\u001b[0;34m.\u001b[0m\u001b[0mModuleType\u001b[0m\u001b[0;34m.\u001b[0m\u001b[0m__getattribute__\u001b[0m\u001b[0;34m(\u001b[0m\u001b[0mself\u001b[0m\u001b[0;34m,\u001b[0m \u001b[0mattr\u001b[0m\u001b[0;34m)\u001b[0m\u001b[0;34m\u001b[0m\u001b[0;34m\u001b[0m\u001b[0m\n\u001b[0m\u001b[1;32m    126\u001b[0m         \u001b[0;32mif\u001b[0m \u001b[0mvalue\u001b[0m \u001b[0;32mis\u001b[0m \u001b[0mnot_loaded\u001b[0m\u001b[0;34m:\u001b[0m\u001b[0;34m\u001b[0m\u001b[0;34m\u001b[0m\u001b[0m\n\u001b[1;32m    127\u001b[0m             \u001b[0;32mwith\u001b[0m \u001b[0mtype\u001b[0m\u001b[0;34m(\u001b[0m\u001b[0mself\u001b[0m\u001b[0;34m)\u001b[0m\u001b[0;34m.\u001b[0m\u001b[0mget_lock\u001b[0m\u001b[0;34m(\u001b[0m\u001b[0;34m)\u001b[0m\u001b[0;34m:\u001b[0m  \u001b[0;31m# All but one thread will block here.\u001b[0m\u001b[0;34m\u001b[0m\u001b[0;34m\u001b[0m\u001b[0m\n",
      "\u001b[0;31mAttributeError\u001b[0m: module 'itk' has no attribute 'imrite'"
     ]
    }
   ],
   "source": []
  },
  {
   "cell_type": "code",
   "execution_count": 18,
   "id": "30ffca9a-b129-4a5f-9ac7-670f1ba3bf56",
   "metadata": {},
   "outputs": [
    {
     "ename": "AttributeError",
     "evalue": "'itkElastixRegistrationMethodIF3IF3' object has no attribute 'GetCurrentExactMetricValue'",
     "output_type": "error",
     "traceback": [
      "\u001b[0;31m---------------------------------------------------------------------------\u001b[0m",
      "\u001b[0;31mAttributeError\u001b[0m                            Traceback (most recent call last)",
      "\u001b[0;32m/tmp/ipykernel_13952/2958793582.py\u001b[0m in \u001b[0;36m<module>\u001b[0;34m\u001b[0m\n\u001b[0;32m----> 1\u001b[0;31m \u001b[0mreg_atlas_obj\u001b[0m\u001b[0;34m.\u001b[0m\u001b[0mGetCurrentExactMetricValue\u001b[0m\u001b[0;34m(\u001b[0m\u001b[0;34m)\u001b[0m\u001b[0;34m\u001b[0m\u001b[0;34m\u001b[0m\u001b[0m\n\u001b[0m",
      "\u001b[0;31mAttributeError\u001b[0m: 'itkElastixRegistrationMethodIF3IF3' object has no attribute 'GetCurrentExactMetricValue'"
     ]
    }
   ],
   "source": [
    "reg_atlas_obj.GetCurrentExactMetricValue()"
   ]
  },
  {
   "cell_type": "code",
   "execution_count": null,
   "id": "4cd6488d-d0fe-4de9-82a0-3ef23b20c308",
   "metadata": {},
   "outputs": [],
   "source": []
  },
  {
   "cell_type": "code",
   "execution_count": null,
   "id": "eeba58e9-74dd-43d5-8c5e-613cc01887e7",
   "metadata": {},
   "outputs": [],
   "source": []
  },
  {
   "cell_type": "code",
   "execution_count": null,
   "id": "03213c38-3cc9-474c-b6c0-b3d6311d4787",
   "metadata": {},
   "outputs": [],
   "source": [
    "\n"
   ]
  },
  {
   "cell_type": "code",
   "execution_count": null,
   "id": "bd568148-9189-47a2-82ea-1a6c37dcccfc",
   "metadata": {},
   "outputs": [],
   "source": []
  },
  {
   "cell_type": "code",
   "execution_count": null,
   "id": "ad6094fe-d382-44de-8b1c-394e786da0f2",
   "metadata": {},
   "outputs": [],
   "source": []
  },
  {
   "cell_type": "code",
   "execution_count": null,
   "id": "455f66d2-783f-43bf-a9fa-c8bd99719b49",
   "metadata": {},
   "outputs": [],
   "source": []
  },
  {
   "cell_type": "code",
   "execution_count": null,
   "id": "deac307b-99ac-4cfb-8814-1b1f1058eb9c",
   "metadata": {},
   "outputs": [],
   "source": []
  },
  {
   "cell_type": "code",
   "execution_count": null,
   "id": "fc0c8974-8336-48ca-af39-9eb64bf9a08d",
   "metadata": {},
   "outputs": [],
   "source": []
  },
  {
   "cell_type": "code",
   "execution_count": null,
   "id": "1fe04797-4256-4c8d-b174-3bf5c7db10e9",
   "metadata": {},
   "outputs": [],
   "source": []
  },
  {
   "cell_type": "code",
   "execution_count": null,
   "id": "68748996-0c3e-4363-bb68-b6313a27c34d",
   "metadata": {},
   "outputs": [],
   "source": []
  },
  {
   "cell_type": "code",
   "execution_count": null,
   "id": "fb63a85c-a6de-4c4d-8623-61a9c1429ada",
   "metadata": {},
   "outputs": [],
   "source": []
  },
  {
   "cell_type": "code",
   "execution_count": null,
   "id": "aae01390-a044-44af-a64a-def487494821",
   "metadata": {},
   "outputs": [],
   "source": []
  }
 ],
 "metadata": {
  "kernelspec": {
   "display_name": "Python 3 (ipykernel)",
   "language": "python",
   "name": "python3"
  },
  "language_info": {
   "codemirror_mode": {
    "name": "ipython",
    "version": 3
   },
   "file_extension": ".py",
   "mimetype": "text/x-python",
   "name": "python",
   "nbconvert_exporter": "python",
   "pygments_lexer": "ipython3",
   "version": "3.8.12"
  }
 },
 "nbformat": 4,
 "nbformat_minor": 5
}
