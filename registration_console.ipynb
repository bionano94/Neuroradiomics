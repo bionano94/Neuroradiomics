{
 "cells": [
  {
   "cell_type": "code",
   "execution_count": 1,
   "id": "f0e82075-b977-4b47-9b62-baf1d49541ec",
   "metadata": {},
   "outputs": [],
   "source": [
    "from Neuroradiomics.registration import registration_reader\n",
    "from Neuroradiomics.registration import elastix_multimap_registration\n",
    "from Neuroradiomics.registration import registration_writer\n",
    "from Neuroradiomics.registration import apply_transform_from_files\n",
    "from Neuroradiomics.registration import read_transform_from_files\n",
    "from Neuroradiomics.registration import elastix_rigid_registration\n",
    "from Neuroradiomics.registration import Set_sampler_parameters_as_image\n",
    "from Neuroradiomics.registration import elastix_transform_parameters_writer\n",
    "from Neuroradiomics.registration import transform_parameters_writer\n",
    "\n",
    "\n",
    "\n",
    "import itk\n",
    "import numpy as np\n",
    "import os\n",
    "\n",
    "import tkinter as tk\n",
    "from tkinter import filedialog"
   ]
  },
  {
   "cell_type": "code",
   "execution_count": 2,
   "id": "0ffb024a-7214-496a-874d-d08cf7960469",
   "metadata": {},
   "outputs": [
    {
     "data": {
      "text/plain": [
       "''"
      ]
     },
     "execution_count": 2,
     "metadata": {},
     "output_type": "execute_result"
    }
   ],
   "source": [
    "root = tk.Tk()\n",
    "root.withdraw()\n"
   ]
  },
  {
   "cell_type": "code",
   "execution_count": 3,
   "id": "331f7c59-344e-4665-9377-c6681a13f3a9",
   "metadata": {},
   "outputs": [],
   "source": [
    "fixed_image_filename = filedialog.askopenfilename(title = \"Select the fixed image\")\n",
    "\n",
    "    #Moving Image\n",
    "moving_image_filename = filedialog.askopenfilename(title = \"Select the moving image\")\n",
    "\n",
    "    #Where to save the registered image\n",
    "output_filepath = filedialog.askdirectory(title = \"Select where do you want to save the new image\")"
   ]
  },
  {
   "cell_type": "code",
   "execution_count": 4,
   "id": "f14f78d5-0fc5-4a85-8fc6-37c12996db11",
   "metadata": {},
   "outputs": [],
   "source": [
    "fix_im, mov_im = registration_reader(fixed_image_filename, moving_image_filename)"
   ]
  },
  {
   "cell_type": "code",
   "execution_count": 5,
   "id": "39563b2b-124d-44bf-bb4d-1dfd8eb12abc",
   "metadata": {},
   "outputs": [
    {
     "name": "stdout",
     "output_type": "stream",
     "text": [
      "The Multimap Registration is done!\n"
     ]
    }
   ],
   "source": [
    "reg_obj = elastix_multimap_registration(fix_im, mov_im)"
   ]
  },
  {
   "cell_type": "code",
   "execution_count": null,
   "id": "61b27ed0-8154-4a84-8563-13b5620220e3",
   "metadata": {},
   "outputs": [],
   "source": [
    "final_dir = trasformation_parameters_writer(reg_obj, output_filepath)"
   ]
  },
  {
   "cell_type": "code",
   "execution_count": 6,
   "id": "109cf9f7-66ad-46e2-9610-779b05e2afbe",
   "metadata": {},
   "outputs": [],
   "source": [
    "new_params = Set_sampler_parameters_as_image(reg_obj.GetTransformParameterObject(), mov_im)"
   ]
  },
  {
   "cell_type": "code",
   "execution_count": null,
   "id": "e1f411b7-6be7-47de-8d24-15851b0a7913",
   "metadata": {},
   "outputs": [],
   "source": [
    "print(reg_obj.GetTransformParameterObject())"
   ]
  },
  {
   "cell_type": "code",
   "execution_count": null,
   "id": "7d70ef2f-2da2-4434-bda4-8b56757ee00d",
   "metadata": {},
   "outputs": [],
   "source": [
    "transform_parameters_writer(new_params, output_filepath)"
   ]
  },
  {
   "cell_type": "code",
   "execution_count": null,
   "id": "b6931834-1f1e-4a54-9506-4b293d572662",
   "metadata": {},
   "outputs": [],
   "source": []
  },
  {
   "cell_type": "code",
   "execution_count": null,
   "id": "77ef2fda-aaa6-4245-994c-aa3444a1e2de",
   "metadata": {},
   "outputs": [],
   "source": []
  },
  {
   "cell_type": "code",
   "execution_count": null,
   "id": "8e7c024d-9227-47d4-a27b-e09075c1fe50",
   "metadata": {},
   "outputs": [],
   "source": []
  },
  {
   "cell_type": "code",
   "execution_count": null,
   "id": "3e4e993c-9a34-4e20-857f-506b30f901ca",
   "metadata": {},
   "outputs": [],
   "source": []
  },
  {
   "cell_type": "code",
   "execution_count": null,
   "id": "1f12f761-8e3c-44fb-9b26-bc277ae0d2ce",
   "metadata": {},
   "outputs": [],
   "source": []
  },
  {
   "cell_type": "code",
   "execution_count": null,
   "id": "e055b0c9-eeaf-4c1c-8ade-7f01e4ba2f6c",
   "metadata": {},
   "outputs": [],
   "source": []
  },
  {
   "cell_type": "code",
   "execution_count": null,
   "id": "8b605a97-1941-49b3-bbc5-a907547e1a54",
   "metadata": {},
   "outputs": [],
   "source": []
  },
  {
   "cell_type": "code",
   "execution_count": null,
   "id": "ecc84d14-7b42-44cd-a41c-b7c0ed02375d",
   "metadata": {},
   "outputs": [],
   "source": []
  }
 ],
 "metadata": {
  "kernelspec": {
   "display_name": "Python 3 (ipykernel)",
   "language": "python",
   "name": "python3"
  },
  "language_info": {
   "codemirror_mode": {
    "name": "ipython",
    "version": 3
   },
   "file_extension": ".py",
   "mimetype": "text/x-python",
   "name": "python",
   "nbconvert_exporter": "python",
   "pygments_lexer": "ipython3",
   "version": "3.8.12"
  }
 },
 "nbformat": 4,
 "nbformat_minor": 5
}
