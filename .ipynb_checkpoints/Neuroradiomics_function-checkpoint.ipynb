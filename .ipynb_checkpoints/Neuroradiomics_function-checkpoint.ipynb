{
 "cells": [
  {
   "cell_type": "code",
   "execution_count": 2,
   "id": "82ac9225-347c-4e48-ba51-d2088f314b2a",
   "metadata": {},
   "outputs": [],
   "source": [
    "import itk\n",
    "import numpy as np\n",
    "from sys import argv"
   ]
  },
  {
   "cell_type": "code",
   "execution_count": 3,
   "id": "3791bd9b-2ac4-4647-8e57-897b9fecf3e3",
   "metadata": {},
   "outputs": [],
   "source": [
    "def registration_reader (fixed_image_filename, moving_image_filename):\n",
    "    \"\"\"This function load 2 images from their path and return 2 ITK objects.\n",
    "        \n",
    "        Args:\n",
    "            fixed_image_filename\n",
    "            moving_image_filename\n",
    "            \n",
    "        Returns:\n",
    "            fixed_image\n",
    "            moving_image\n",
    "    \"\"\"\n",
    "    \n",
    "    \n",
    "    #We load the images as float (itk.F) because is necessary for elastix\n",
    "    fixed_image = itk.imread(fixed_image_filename, itk.F)\n",
    "    moving_image = itk.imread(moving_image_filename, itk.F)\n",
    "    \n",
    "    return fixed_image, moving_image;\n",
    "    "
   ]
  },
  {
   "cell_type": "code",
   "execution_count": 7,
   "id": "ca115f38-8ac0-4f6f-b796-8be28d5f4ab0",
   "metadata": {},
   "outputs": [],
   "source": [
    "def elastix_registration(fixed_image, moving_image):\n",
    "    \"\"\"This function do the registration of a moving image over a fixed image.\n",
    "    \n",
    "    Args:\n",
    "        fixed_image\n",
    "        moving_image\n",
    "        \n",
    "    Returns:\n",
    "        registered_moving_image\n",
    "        final_transform_parameters\n",
    "    \n",
    "    \"\"\"\n",
    "    \n",
    "    parameter_object = itk.ParameterObject.New()\n",
    "    default_rigid_parameter_map = parameter_object.GetDefaultParameterMap('rigid')\n",
    "    parameter_object.AddParameterMap(default_rigid_parameter_map)\n",
    "    \n",
    "    result_image, result_transform_parameters = itk.elastix_registration_method(\n",
    "    fixed_image, moving_image,\n",
    "    parameter_object=parameter_object,\n",
    "    log_to_console=False)\n",
    "    \n",
    "    print(\"The Registration is done!\")\n",
    "    \n",
    "    return result_image, result_transform_parameters\n",
    "\n"
   ]
  },
  {
   "cell_type": "code",
   "execution_count": 5,
   "id": "104381f8-f6ff-4585-91da-cf6412bc438a",
   "metadata": {},
   "outputs": [],
   "source": [
    "def registration_writer(image, file_path):\n",
    "    itk.imwrite(image, file_path+\"/registered_image.nii\")\n",
    "    print(\"Your file is written!\")"
   ]
  },
  {
   "cell_type": "code",
   "execution_count": 9,
   "id": "527e3093-8703-4f81-be7e-ff1c70062b15",
   "metadata": {},
   "outputs": [],
   "source": [
    "import tkinter as tk #serve per apire una finestra di dialogo per parire un determinato file\n",
    "from tkinter import filedialog\n",
    "\n",
    "\n",
    "#questi comandi inizializzano tkinter\n",
    "root = tk.Tk()\n",
    "root.withdraw()\n",
    "\n",
    "#Fixed Image\n",
    "#questo comando apre la finestra di dialogo e mi permette di scegliere il percorso del file\n",
    "fixed_image_filename = filedialog.askopenfilename(title = \"Select the fixed image\")\n",
    "\n",
    "#Moving Image\n",
    "moving_image_filename = filedialog.askopenfilename(title = \"Select the moving image\")\n",
    "\n",
    "#Where to save the registered image\n",
    "output_filepath = filedialog.askdirectory(title = \"Select where do you want to save the new image\")\n",
    "\n"
   ]
  },
  {
   "cell_type": "code",
   "execution_count": 11,
   "id": "dbcd68b8-4de1-4528-b33c-f17309948391",
   "metadata": {},
   "outputs": [
    {
     "name": "stdout",
     "output_type": "stream",
     "text": [
      "The Registration is done!\n"
     ]
    }
   ],
   "source": [
    "fixed_image, moving_image = registration_reader(fixed_image_filename, moving_image_filename)\n",
    "registered_image, registration_parameters = elastix_registration(fixed_image, moving_image)\n"
   ]
  },
  {
   "cell_type": "code",
   "execution_count": 12,
   "id": "7f626506-a184-493a-9e66-dffa7c240843",
   "metadata": {},
   "outputs": [
    {
     "name": "stdout",
     "output_type": "stream",
     "text": [
      "Your file is written!\n"
     ]
    }
   ],
   "source": [
    "registration_writer(registered_image, output_filepath)"
   ]
  },
  {
   "cell_type": "code",
   "execution_count": null,
   "id": "179f815b-72ed-4894-b10d-f95c8f576625",
   "metadata": {},
   "outputs": [],
   "source": []
  }
 ],
 "metadata": {
  "kernelspec": {
   "display_name": "Python 3 (ipykernel)",
   "language": "python",
   "name": "python3"
  },
  "language_info": {
   "codemirror_mode": {
    "name": "ipython",
    "version": 3
   },
   "file_extension": ".py",
   "mimetype": "text/x-python",
   "name": "python",
   "nbconvert_exporter": "python",
   "pygments_lexer": "ipython3",
   "version": "3.8.12"
  }
 },
 "nbformat": 4,
 "nbformat_minor": 5
}
