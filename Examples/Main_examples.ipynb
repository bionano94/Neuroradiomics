{
 "cells": [
  {
   "cell_type": "markdown",
   "id": "8a8135fd-1a50-4c2d-875a-86d1b6546f86",
   "metadata": {
    "tags": []
   },
   "source": [
    "THIS JUPYTER NOTEBOOK IS INTENDED TO BE AN EXAMPLE FOR THE USAGE OF THE FUNCTIONS PRESENTS IN THIS REPO."
   ]
  },
  {
   "cell_type": "markdown",
   "id": "773d887f-d6cd-470d-af97-7407d92fa78a",
   "metadata": {
    "tags": []
   },
   "source": [
    "## Data Download\n",
    "First of all please, download those files and unzip them in the same directory of this file:\n",
    "\n",
    "ICBM MNI 152 2009a: http://www.bic.mni.mcgill.ca/~vfonov/icbm/2009/mni_icbm152_nlin_sym_09a_nifti.zip\n",
    "\n",
    "|X| Datasets: T1:   http://biomedic.doc.ic.ac.uk/brain-development/downloads/IXI/IXI-T1.tar\n",
    "              \n"
   ]
  },
  {
   "cell_type": "markdown",
   "id": "9a42632c-337f-4990-8d95-d86a388c57ea",
   "metadata": {},
   "source": [
    "## Read files\n",
    "The first need is to read files"
   ]
  },
  {
   "cell_type": "code",
   "execution_count": 1,
   "id": "03909d35-f954-4799-bde0-92734257a4f9",
   "metadata": {},
   "outputs": [],
   "source": [
    "from tkinter import filedialog\n",
    "import itk\n",
    "\n",
    "t1_filename = filedialog.askopenfilename(title = 'Select the T1-W image')\n",
    "t1 = itk.imread(t1_filename, itk.F)\n",
    "\n",
    "atlas_filename = filedialog.askopenfilename(title = 'Select the Atlas image')\n",
    "atlas = itk.imread(atlas_filename, itk.F)"
   ]
  },
  {
   "cell_type": "markdown",
   "id": "b0b91fbd-260a-4fc0-bdf6-cdf9f19c7144",
   "metadata": {
    "tags": []
   },
   "source": [
    "## Register the Atlas image\n",
    "If we want to register an atlas over an image with a multimap (Rigid -> Affine -> BSpline) registration:"
   ]
  },
  {
   "cell_type": "code",
   "execution_count": 2,
   "id": "c0f20ed3-df55-4a42-b408-564b18696f5d",
   "metadata": {},
   "outputs": [],
   "source": [
    "from Neuroradiomics.registration import elastix_multimap_registration\n",
    "registration_object = elastix_multimap_registration (t1, atlas)\n",
    "registered_atlas = registration_object.GetOutput()\n",
    "\n",
    "itk.imwrite(registered_atlas, 'registered_atlas.nii') #to write on the disk the image"
   ]
  },
  {
   "cell_type": "markdown",
   "id": "e1a78b9f-e617-46dd-b401-0e6042e6aff3",
   "metadata": {},
   "source": [
    "Here is reported an example of the MNI 152 t1 atlas registered on the 002-Guys-0828-T1 scan of the IXI database.\n",
    "\n",
    "This is the original scan:\n",
    "\n",
    "<img src=\"./Images/T1.jpg\" alt= “T1W_scan” width=\"50%\" height=\"50%\" title=\"T1W original scan\">\n",
    "\n",
    "This is the atlas registered on the scan:\n",
    "\n",
    "<img src=\"./Images/registered_atlas.jpg\" alt= “” width=\"50%\" height=\"50%\">"
   ]
  },
  {
   "cell_type": "markdown",
   "id": "3c1a9974-cc09-4c21-b90f-f5277b7482ab",
   "metadata": {},
   "source": [
    "## Skull Stripping an Image\n",
    "\n",
    "In this case there is the need to read the brain mask of the atlas"
   ]
  },
  {
   "cell_type": "code",
   "execution_count": 4,
   "id": "4f86efc6-6a9c-4e67-b329-cbfd0a217780",
   "metadata": {},
   "outputs": [],
   "source": [
    "from Neuroradiomics.skull_stripping import skull_stripper\n",
    "\n",
    "atlas_brain_mask_filename = filedialog.askopenfilename(title = 'Select the brain mask from the atlas')\n",
    "atlas_brain_mask = itk.imread(atlas_brain_mask_filename, itk.F)\n",
    "\n",
    "brain = skull_stripper(t1, atlas, atlas_brain_mask)\n",
    "\n",
    "itk.imwrite(brain, 'brain.nii') "
   ]
  },
  {
   "cell_type": "markdown",
   "id": "bc08fdca-4122-48d7-9f77-270cbbdb36f5",
   "metadata": {},
   "source": [
    "Here it is possible to see the brain extracted from the IXI002-Guys-0828-T1 scan from the IXI database.\n",
    "\n",
    "<img src=\"./Images/brain.jpg\" alt= “” width=\"50%\" height=\"50%\">"
   ]
  },
  {
   "cell_type": "markdown",
   "id": "d069ca55-33f6-45e0-a96d-4311fcc1406f",
   "metadata": {},
   "source": [
    "There is also the possibility to obtain the brain mask and eventually the transformation applied to the object"
   ]
  },
  {
   "cell_type": "code",
   "execution_count": 5,
   "id": "8913a780-e17d-4ef7-a7e8-e598fe073e8e",
   "metadata": {},
   "outputs": [],
   "source": [
    "from Neuroradiomics.skull_stripping import skull_stripping_mask\n",
    "\n",
    "brain_mask, transform = skull_stripping_mask(t1, atlas, atlas_brain_mask, transformation_return = True)"
   ]
  },
  {
   "cell_type": "markdown",
   "id": "f3617b47-4827-479e-b714-7cc2d1e6a4d9",
   "metadata": {},
   "source": [
    "There is no need to apply those two functions if are required both brain and the brain mask.\n",
    "There is a masking function that can apply directly the mask."
   ]
  },
  {
   "cell_type": "code",
   "execution_count": null,
   "id": "08d66608-96a8-4301-a206-7363163361cf",
   "metadata": {},
   "outputs": [],
   "source": [
    "from Neuroradiomics.skull_stripping import negative_3d_masking\n",
    "\n",
    "brain = negative_3d_masking (t1, brain_mask)"
   ]
  },
  {
   "cell_type": "markdown",
   "id": "a85ee3ee-2611-4069-95b2-8af0f2ed2c6c",
   "metadata": {},
   "source": [
    "## Segmenting the tissues in a brain image\n",
    "\n",
    "In this case is necessary to read the probability masks of the atlas and register them to the T1 space.\n",
    "Since the atlas is already registered we only transform them using the already obtained transform.\n",
    "In order to do this we will use the transformix filter."
   ]
  },
  {
   "cell_type": "code",
   "execution_count": 6,
   "id": "9a49ca27-c82e-4d13-a66a-f375d80c2d37",
   "metadata": {},
   "outputs": [],
   "source": [
    "from Neuroradiomics.segmentation import brain_segmentation\n",
    "\n",
    "atlas_wm_filename = filedialog.askopenfilename(title = 'Select the White Matter probability map')\n",
    "atlas_wm = itk.imread(atlas_wm_filename, itk.F)\n",
    "\n",
    "atlas_gm_filename = filedialog.askopenfilename(title = 'Select the Grey Matter probability map')\n",
    "atlas_gm = itk.imread(atlas_gm_filename, itk.F)\n",
    "\n",
    "atlas_csf_filename = filedialog.askopenfilename(title = 'Select the Cerebrospinal Fluid probability map')\n",
    "atlas_csf = itk.imread(atlas_csf_filename, itk.F)\n",
    "\n",
    "reg_wm = itk.transformix_filter(atlas_wm, transform)\n",
    "reg_gm = itk.transformix_filter(atlas_gm, transform)\n",
    "reg_csf = itk.transformix_filter(atlas_csf, transform)\n",
    "                                                \n",
    "\n",
    "labels = brain_segmentation ( brain, brain_mask, reg_wm, reg_gm, reg_csf, auto_mean = True)\n",
    "\n",
    "itk.imwrite(labels, 'labels.nii')"
   ]
  },
  {
   "cell_type": "markdown",
   "id": "b06a4e7e-799e-4dd6-b0ce-f3123f543459",
   "metadata": {},
   "source": [
    "Labels are so distinguished:\n",
    "\n",
    "0. Background\n",
    "1. Cerebrospinal Fluid\n",
    "2. Grey Matter\n",
    "3. White Matter"
   ]
  },
  {
   "cell_type": "markdown",
   "id": "ef4ae6cc-5a95-468b-a22b-a0d51e4f1f8e",
   "metadata": {},
   "source": [
    "Here is provided and example of segmentation for the IXI002-Guys-0828-T1 scan from the IXI database.\n",
    "The color map is the subsequent:\n",
    "* Red:    White Matter\n",
    "* Yellow: Grey Matter\n",
    "* Green:  Cerebrospinal Fluid\n",
    "\n",
    "<img src=\"./Images/segmentation.jpg\" alt= “” width=\"50%\" height=\"50%\">"
   ]
  },
  {
   "cell_type": "markdown",
   "id": "572a1256-c02a-496d-8b71-e57efa8f968d",
   "metadata": {},
   "source": [
    "There is also a function that permits to choose and keep only one label."
   ]
  },
  {
   "cell_type": "code",
   "execution_count": 8,
   "id": "60f3d756-e38f-4a0a-a928-9efaa9ef665c",
   "metadata": {},
   "outputs": [],
   "source": [
    "from Neuroradiomics.segmentation import label_selection\n",
    "\n",
    "\n",
    "white_matter_label = label_selection(labels, 3) #in order to select only the white matter\n",
    "\n",
    "itk.imwrite(white_matter_label, 'white_matter_label.nii') #wirte down the selected label image"
   ]
  },
  {
   "cell_type": "markdown",
   "id": "7a44e326-6a36-484a-bfc4-e4a47b879ea4",
   "metadata": {},
   "source": [
    "This is the final result. Here is reported the automatically segmented white matter on the original T1W scan.\n",
    "\n",
    "<img src=\"./Images/WM.jpg\" alt= “” width=\"50%\" height=\"50%\">"
   ]
  }
 ],
 "metadata": {
  "kernelspec": {
   "display_name": "Python 3 (ipykernel)",
   "language": "python",
   "name": "python3"
  },
  "language_info": {
   "codemirror_mode": {
    "name": "ipython",
    "version": 3
   },
   "file_extension": ".py",
   "mimetype": "text/x-python",
   "name": "python",
   "nbconvert_exporter": "python",
   "pygments_lexer": "ipython3",
   "version": "3.9.13"
  }
 },
 "nbformat": 4,
 "nbformat_minor": 5
}
