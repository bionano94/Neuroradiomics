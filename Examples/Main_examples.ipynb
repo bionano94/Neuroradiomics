{
 "cells": [
  {
   "cell_type": "markdown",
   "id": "8a8135fd-1a50-4c2d-875a-86d1b6546f86",
   "metadata": {
    "tags": []
   },
   "source": [
    "THIS JUPYTER NOTEBOOK IS INTENDED TO BE AN EXAMPLE FOR THE USAGE OF THE FUNCTIONS PRESENTS IN THIS REPO."
   ]
  },
  {
   "cell_type": "markdown",
   "id": "773d887f-d6cd-470d-af97-7407d92fa78a",
   "metadata": {
    "tags": []
   },
   "source": [
    "## Data Download\n",
    "First of all please, download those files and unzip them in the same directory of this file:\n",
    "\n",
    "ICBM MNI 152 2009a: http://www.bic.mni.mcgill.ca/~vfonov/icbm/2009/mni_icbm152_nlin_sym_09a_nifti.zip\n",
    "\n",
    "|X| Datasets: T1:   http://biomedic.doc.ic.ac.uk/brain-development/downloads/IXI/IXI-T1.tar\n",
    "              \n"
   ]
  },
  {
   "cell_type": "markdown",
   "id": "9a42632c-337f-4990-8d95-d86a388c57ea",
   "metadata": {},
   "source": [
    "## Read files\n",
    "The first need is to read files"
   ]
  },
  {
   "cell_type": "code",
   "execution_count": null,
   "id": "03909d35-f954-4799-bde0-92734257a4f9",
   "metadata": {},
   "outputs": [],
   "source": [
    "import tkinter\n",
    "import itk\n",
    "\n",
    "t1_filename = filedialog.askopenfilename(title = 'Select the T1-W image')\n",
    "t1 = itk.imread(t1_filename, itk.F)\n",
    "\n",
    "atlas_filename = filedialog.askopenfilename(title = 'Select the Atlas image')\n",
    "atlas = itk.imread(atlas_filename, itk.F)"
   ]
  },
  {
   "cell_type": "markdown",
   "id": "b0b91fbd-260a-4fc0-bdf6-cdf9f19c7144",
   "metadata": {},
   "source": [
    "## Register the Atlas image\n",
    "If we want to register an atlas over an image with a multimap (Rigid -> Affine -> BSpline) registration:"
   ]
  },
  {
   "cell_type": "code",
   "execution_count": null,
   "id": "c0f20ed3-df55-4a42-b408-564b18696f5d",
   "metadata": {},
   "outputs": [],
   "source": [
    "from Neuroradiomics.registration import *\n",
    "registration_object = elastix_multimap_registration (t1, atlas)\n",
    "registered_atlas = registration_object.GetOutput()\n",
    "\n",
    "itk.imwrite(registered_atlas, 'registered_atlas.nii') #to write on the disk the image"
   ]
  },
  {
   "cell_type": "markdown",
   "id": "3c1a9974-cc09-4c21-b90f-f5277b7482ab",
   "metadata": {},
   "source": [
    "## Skull Stripping an Image\n",
    "\n",
    "In this case there is the need to read the brain mask of the atlas"
   ]
  },
  {
   "cell_type": "code",
   "execution_count": null,
   "id": "4f86efc6-6a9c-4e67-b329-cbfd0a217780",
   "metadata": {},
   "outputs": [],
   "source": [
    "from Neuroradiomics.skull_stripping import *\n",
    "\n",
    "atlas_brain_mask_filename = filedialog.askopenfilename(title = 'Select the brain mask from the atlas')\n",
    "atlas_brain_mask = itk.imread(atlas_brain_mask_filename, itk.F)\n",
    "\n",
    "brain = skull_stripper(t1, atlas, atlas_brain_mask)\n",
    "\n",
    "itk.imwrite(brain, 'brain.nii') "
   ]
  },
  {
   "cell_type": "markdown",
   "id": "d069ca55-33f6-45e0-a96d-4311fcc1406f",
   "metadata": {},
   "source": [
    "There is also the possibility to obtain the brain mask and eventually the transformation applied to the object"
   ]
  },
  {
   "cell_type": "code",
   "execution_count": null,
   "id": "8913a780-e17d-4ef7-a7e8-e598fe073e8e",
   "metadata": {},
   "outputs": [],
   "source": [
    "brain_mask, transform = skull_stripping_mask(t1, atlas, atlas_brain_mask, transformation_return = True)"
   ]
  },
  {
   "cell_type": "markdown",
   "id": "f3617b47-4827-479e-b714-7cc2d1e6a4d9",
   "metadata": {},
   "source": [
    "There is no need to apply those two functions if are required both brain and the brain mask.\n",
    "There is a masking function that can apply directly the mask."
   ]
  },
  {
   "cell_type": "code",
   "execution_count": null,
   "id": "08d66608-96a8-4301-a206-7363163361cf",
   "metadata": {},
   "outputs": [],
   "source": [
    "brain = negative_3d_masking (t1, brain_mask)"
   ]
  },
  {
   "cell_type": "markdown",
   "id": "a85ee3ee-2611-4069-95b2-8af0f2ed2c6c",
   "metadata": {},
   "source": [
    "## Segmenting the tissues in a brain image\n",
    "\n",
    "In this case is necessary to read the probability masks of the atlas."
   ]
  },
  {
   "cell_type": "code",
   "execution_count": null,
   "id": "76e0eefd-e297-433e-b9c8-e494ff3e40b9",
   "metadata": {},
   "outputs": [],
   "source": [
    "from Neuroradiomics.segmentation import *\n",
    "\n",
    "atlas_wm_filnemane = filedialog.askopenfilename(title = 'Select the White Matter probability map')\n",
    "atlas_wm = itk.imread(atlas_wm_filnemaneaa, itk.F)\n",
    "\n",
    "atlas_gm_filnemane = filedialog.askopenfilename(title = 'Select the Grey Matter probability map')\n",
    "atlas_gm = itk.imread(atlas_gm_filnemaneaa, itk.F)\n",
    "\n",
    "atlas_csf_filnemane = filedialog.askopenfilename(title = 'Select the Cerebrospinal Fluid probability map')\n",
    "atlas_csf = itk.imread(atlas_csf_filnemaneaa, itk.F)\n",
    "                                                \n",
    "\n",
    "labels = brain_segmentation ( brain, brain_mask, atlas_wm, atlas_gm, atlas_csf, auto_mean = False)"
   ]
  },
  {
   "cell_type": "markdown",
   "id": "e5f88857-3097-44bb-9fa0-31971836b4b4",
   "metadata": {},
   "source": [
    "Labels are so distinguished:\n",
    "\n",
    "0. Background\n",
    "1. White Matter\n",
    "2. Grey Matter\n",
    "3. Cerebrospinal Fluid\n",
    "\n",
    "There is also a function that permits to choose and keep only one label."
   ]
  },
  {
   "cell_type": "code",
   "execution_count": null,
   "id": "ef7ce45d-505e-4c87-95f1-75c493bd39cd",
   "metadata": {},
   "outputs": [],
   "source": [
    "white_matter_label = label_selection(labels, 1) #in order to select only the white matter"
   ]
  }
 ],
 "metadata": {
  "kernelspec": {
   "display_name": "Python 3 (ipykernel)",
   "language": "python",
   "name": "python3"
  },
  "language_info": {
   "codemirror_mode": {
    "name": "ipython",
    "version": 3
   },
   "file_extension": ".py",
   "mimetype": "text/x-python",
   "name": "python",
   "nbconvert_exporter": "python",
   "pygments_lexer": "ipython3",
   "version": "3.9.13"
  }
 },
 "nbformat": 4,
 "nbformat_minor": 5
}
