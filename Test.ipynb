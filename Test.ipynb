{
 "cells": [
  {
   "cell_type": "code",
   "execution_count": 3,
   "id": "d653e401-0094-4ef2-9d7f-183083e2378e",
   "metadata": {},
   "outputs": [],
   "source": [
    "import pytest\n",
    "import hypothesis.strategies as st\n",
    "from hypothesis import given, settings, assume\n",
    "from hypothesis import HealthCheck as HC"
   ]
  },
  {
   "cell_type": "code",
   "execution_count": 4,
   "id": "623546be-2e89-476c-b318-7e80a5620833",
   "metadata": {},
   "outputs": [],
   "source": [
    "from Neuroradiomics.registration import registration_reader\n",
    "from Neuroradiomics.registration import elastix_registration\n",
    "from Neuroradiomics.registration import registration_writer"
   ]
  },
  {
   "cell_type": "code",
   "execution_count": 9,
   "id": "b57d04f1-4ce3-46fe-ae4a-76d7c3c16b60",
   "metadata": {},
   "outputs": [],
   "source": [
    "import itk"
   ]
  },
  {
   "cell_type": "code",
   "execution_count": 15,
   "id": "30c417c2-57da-40d9-a884-0c932d6db377",
   "metadata": {},
   "outputs": [],
   "source": [
    "################################################################################\n",
    "##                          Define Test strategies                            ##\n",
    "################################################################################\n",
    "\n",
    "\n",
    "@st.composite\n",
    "def elastix_registration_strategy(draw):\n",
    "    \n",
    "    '''\n",
    "    This function generates two 2 or 3D blank itk images\n",
    "    '''\n",
    "    \n",
    "    Dimension = draw(st.integer(2,3))\n",
    "    PixelType = itk.F\n",
    "    ImageType = itk.Image[PixelType, Dimension]\n",
    "        \n",
    "        \n",
    "    Origin_fixed = draw(st.tuples(*[st.floats(0., 100.)] * Dimension))\n",
    "    Size_fixed = (draw(st.integers(10, 100)), draw(st.integers(10, 100)), draw(st.integers(10, 100)))\n",
    "    \n",
    "    Origin_moving = draw(st.tuples(*[st.floats(0., 100.)] * Dimension))\n",
    "    Size_moving = (draw(st.integers(10, 100)), draw(st.integers(10, 100)), draw(st.integers(10, 100)))\n",
    "    \n",
    "\n",
    "    fixed_image = ImageType.New()\n",
    "    moving_image = ImageType.New()\n",
    "\n",
    "    fixed_region = itk.ImageRegion[Dimension]()\n",
    "    fixed_region.SetSize(Size_fixed)\n",
    "    fixed_region.SetIndex(Origin_fixed)\n",
    "    \n",
    "    moving_region = itk.ImageRegion[Dimension]()\n",
    "    moving_region.SetSize(Size_moving)\n",
    "    moving_region.SetIndex(Origin_moving)\n",
    "\n",
    "    fixed_image.SetRegions(fixed_region)\n",
    "    fixed_image.Allocate()\n",
    "    \n",
    "    moving_image.SetRegions(moving_region)\n",
    "    moving_image.Allocate()\n",
    "    \n",
    "    return fixed_image, moving_image\n"
   ]
  },
  {
   "cell_type": "code",
   "execution_count": 18,
   "id": "5f08c8fc-645f-43e6-b9c0-726282220285",
   "metadata": {},
   "outputs": [],
   "source": [
    "################################################################################\n",
    "###                                                                          ###\n",
    "###                                 TESTING                                  ###\n",
    "###                                                                          ###\n",
    "################################################################################\n",
    "\n",
    "@given(elastix_registration_strategy())\n",
    "def elastix_registration_dimension_test(fixed_image, moving_image):\n",
    "    \n",
    "    '''\n",
    "    This function tests if the final registered image has the same size of the initial fixed image\n",
    "    '''\n",
    "    registered_image, registration_parameters = elastix_registration(fixed_image, moving_image)\n",
    "    assert (registered_image.GetSize() == fixed_image.GetSize())\n",
    "    \n",
    "    \n",
    "\n",
    "@given(elastix_registration_strategy())\n",
    "def elastix_registration_dimension_test(fixed_image, moving_image):\n",
    "    \n",
    "    '''\n",
    "    This function tests if the final registered image has the same resolution of the initial moving image\n",
    "    '''\n",
    "    registered_image, registration_parameters = elastix_registration(fixed_image, moving_image)\n",
    "    assert (registered_image.GetSize() == fixed_image.GetSize())\n"
   ]
  },
  {
   "cell_type": "code",
   "execution_count": null,
   "id": "b2b1e638-e532-4a06-9640-074bf7f3fc52",
   "metadata": {},
   "outputs": [],
   "source": []
  },
  {
   "cell_type": "code",
   "execution_count": null,
   "id": "5fc697f6-8430-4039-8979-59dee5373209",
   "metadata": {},
   "outputs": [],
   "source": []
  }
 ],
 "metadata": {
  "kernelspec": {
   "display_name": "Python [conda env:ITK] *",
   "language": "python",
   "name": "conda-env-ITK-py"
  },
  "language_info": {
   "codemirror_mode": {
    "name": "ipython",
    "version": 3
   },
   "file_extension": ".py",
   "mimetype": "text/x-python",
   "name": "python",
   "nbconvert_exporter": "python",
   "pygments_lexer": "ipython3",
   "version": "3.8.12"
  }
 },
 "nbformat": 4,
 "nbformat_minor": 5
}
